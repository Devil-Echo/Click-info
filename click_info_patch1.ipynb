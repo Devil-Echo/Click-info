{
 "cells": [
  {
   "cell_type": "code",
   "execution_count": 14,
   "metadata": {},
   "outputs": [],
   "source": [
    "\n",
    "#import csv\n",
    "#import atexit\n",
    "import mouse\n",
    "import time, pickle\n",
    "import datetime\n",
    "\n",
    "\n",
    "right_li = []\n",
    "left_li= []\n",
    "\n",
    "pickle_in = open('left.pickle','rb')\n",
    "left_data = pickle.load(pickle_in)\n",
    "pickle_in = open('right.pickle','rb')\n",
    "right_data = pickle.load(pickle_in)\n",
    "\n",
    "while True:\n",
    "    try:\n",
    "        if(mouse.is_pressed(button='left')):\n",
    "            left_li.append(mouse.get_position())\n",
    "\n",
    "        elif(mouse.is_pressed(button='right')):\n",
    "            right_li.append(mouse.get_position())\n",
    "\n",
    "        time.sleep(0.2)\n",
    "        \n",
    "    except KeyboardInterrupt:\n",
    "        break\n",
    "    \n",
    "# with open('data.csv', 'w') as f:           To save the data in a csv file\n",
    "#     wtr = csv.writer(f, delimiter=',')    \n",
    "#     wtr.writerows(left_li)\n",
    "#     wtr.writerows(right_li)\n",
    "\n",
    "\n",
    "left_data[str(datetime.date.today())] = left_li\n",
    "right_data[str(datetime.date.today())] = right_li\n",
    "\n",
    "pickle_out = open('right.pickle', 'wb')\n",
    "pickle.dump(right_data, pickle_out)\n",
    "pickle_out.close()\n",
    "\n",
    "pickle_out = open('left.pickle', 'wb')\n",
    "pickle.dump(left_data, pickle_out)\n",
    "pickle_out.close()"
   ]
  },
  {
   "cell_type": "code",
   "execution_count": null,
   "metadata": {},
   "outputs": [],
   "source": []
  }
 ],
 "metadata": {
  "kernelspec": {
   "display_name": "Python 3",
   "language": "python",
   "name": "python3"
  },
  "language_info": {
   "codemirror_mode": {
    "name": "ipython",
    "version": 3
   },
   "file_extension": ".py",
   "mimetype": "text/x-python",
   "name": "python",
   "nbconvert_exporter": "python",
   "pygments_lexer": "ipython3",
   "version": "3.7.4"
  }
 },
 "nbformat": 4,
 "nbformat_minor": 2
}
