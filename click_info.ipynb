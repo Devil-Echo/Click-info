{
 "cells": [
  {
   "cell_type": "code",
   "execution_count": null,
   "metadata": {},
   "outputs": [],
   "source": [
    "\n",
    "#import csv\n",
    "import mouse\n",
    "import time, pickle\n",
    "\n",
    "\n",
    "right_li = []\n",
    "left_li= []\n",
    "right_count = 0\n",
    "left_count = 0\n",
    "\n",
    "while True:\n",
    "    try:\n",
    "        if(mouse.is_pressed(button='left')):\n",
    "            left_li.append(mouse.get_position())\n",
    "            left_count += 1\n",
    "\n",
    "        elif(mouse.is_pressed(button='right')):\n",
    "            right_li.append(mouse.get_position())\n",
    "            right_count += 1\n",
    "\n",
    "        time.sleep(0.2)\n",
    "        \n",
    "    except KeyboardInterrupt:\n",
    "        break\n",
    "    \n",
    "# with open('data.csv', 'w') as f:          To save the data in a csv file\n",
    "#     wtr = csv.writer(f, delimiter=',')    \n",
    "#     wtr.writerows(left_li)\n",
    "#     wtr.writerows(right_li)\n",
    "\n",
    "\n",
    "pickle_out = open('right.pickle', 'wb')\n",
    "pickle.dump(right_li, pickle_out)\n",
    "pickle_out.close()\n",
    "\n",
    "pickle_out = open('left.pickle', 'wb')\n",
    "pickle.dump(left_li, pickle_out)\n",
    "pickle_out.close()"
   ]
  },
  {
   "cell_type": "code",
   "execution_count": null,
   "metadata": {},
   "outputs": [],
   "source": []
  }
 ],
 "metadata": {
  "kernelspec": {
   "display_name": "Python 3",
   "language": "python",
   "name": "python3"
  },
  "language_info": {
   "codemirror_mode": {
    "name": "ipython",
    "version": 3
   },
   "file_extension": ".py",
   "mimetype": "text/x-python",
   "name": "python",
   "nbconvert_exporter": "python",
   "pygments_lexer": "ipython3",
   "version": "3.7.4"
  }
 },
 "nbformat": 4,
 "nbformat_minor": 2
}
